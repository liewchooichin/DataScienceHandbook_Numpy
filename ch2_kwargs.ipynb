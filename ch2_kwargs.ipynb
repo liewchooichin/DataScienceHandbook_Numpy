{
 "cells": [
  {
   "cell_type": "markdown",
   "id": "b02e2ceb",
   "metadata": {},
   "source": [
    "### **kwargs\n",
    "Using keyword arguments"
   ]
  },
  {
   "cell_type": "code",
   "execution_count": 2,
   "id": "bd7d3bc7",
   "metadata": {},
   "outputs": [
    {
     "name": "stdout",
     "output_type": "stream",
     "text": [
      "item='a'\tvalue='1'\n",
      "item='a'\tvalue='2'\n",
      "item='a'\tvalue='3'\n"
     ]
    }
   ],
   "source": [
    "def animals (**kwargs):\n",
    "    for item, value in kwargs:\n",
    "        print(f\"{item=}\\t{value=}\")\n",
    "\n",
    "animals(a1 ='zebra', a2='camel', a3='boa constrictor')"
   ]
  },
  {
   "cell_type": "code",
   "execution_count": 20,
   "id": "2f20d450",
   "metadata": {},
   "outputs": [
    {
     "name": "stdout",
     "output_type": "stream",
     "text": [
      "zebra camel cow\n",
      "*dict will return the keys.\n"
     ]
    }
   ],
   "source": [
    "a_dict = {'zebra':'grass', 'camel':'water', 'cow':'hay'}\n",
    "\n",
    "print(*a_dict)\n",
    "print(\"*dict will return the keys.\")"
   ]
  },
  {
   "cell_type": "code",
   "execution_count": 27,
   "id": "5be515c9",
   "metadata": {},
   "outputs": [
    {
     "ename": "TypeError",
     "evalue": "'zebra' is an invalid keyword argument for print()",
     "output_type": "error",
     "traceback": [
      "\u001b[1;31m---------------------------------------------------------------------------\u001b[0m",
      "\u001b[1;31mTypeError\u001b[0m                                 Traceback (most recent call last)",
      "Cell \u001b[1;32mIn[27], line 1\u001b[0m\n\u001b[1;32m----> 1\u001b[0m \u001b[38;5;28mprint\u001b[39m(\u001b[38;5;241m*\u001b[39m\u001b[38;5;241m*\u001b[39ma_dict)\n",
      "\u001b[1;31mTypeError\u001b[0m: 'zebra' is an invalid keyword argument for print()"
     ]
    }
   ],
   "source": [
    "print(**a_dict)"
   ]
  },
  {
   "cell_type": "code",
   "execution_count": 30,
   "id": "72c68db6",
   "metadata": {},
   "outputs": [
    {
     "name": "stdout",
     "output_type": "stream",
     "text": [
      "g r a s s\n",
      "*dict[key] willl return the --unpacked-- value\n"
     ]
    }
   ],
   "source": [
    "print(*a_dict['zebra'])\n",
    "print(\"*dict[key] willl return the --unpacked-- value\")"
   ]
  },
  {
   "cell_type": "code",
   "execution_count": 29,
   "id": "32a13c6e",
   "metadata": {},
   "outputs": [
    {
     "name": "stdout",
     "output_type": "stream",
     "text": [
      "grass\n",
      "a_dict[key] will return the normal value\n"
     ]
    }
   ],
   "source": [
    "print(a_dict['zebra'])\n",
    "print(\"a_dict[key] will return the normal value\")"
   ]
  }
 ],
 "metadata": {
  "kernelspec": {
   "display_name": "Python 3 (ipykernel)",
   "language": "python",
   "name": "python3"
  },
  "language_info": {
   "codemirror_mode": {
    "name": "ipython",
    "version": 3
   },
   "file_extension": ".py",
   "mimetype": "text/x-python",
   "name": "python",
   "nbconvert_exporter": "python",
   "pygments_lexer": "ipython3",
   "version": "3.10.10"
  }
 },
 "nbformat": 4,
 "nbformat_minor": 5
}
